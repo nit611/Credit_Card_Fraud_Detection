{
 "cells": [
  {
   "cell_type": "markdown",
   "metadata": {},
   "source": [
    "### <b>Credit Card Fraud Detection</b>\n",
    "This project's data was taken from <a href='https://www.kaggle.com/datasets/mlg-ulb/creditcardfraud'> this Kaggle dataset </a> by Machine Learning Group - ULB (Brussels University).<br>\n",
    "Data from transactions in 2013 of European creditcard holders.<br><br>\n",
    "This classification project is approached in a relatively straightforward way. <br><br> \n",
    "* The data provided by ML-ULB taken from their anonymized source, contains Time (second elapsed since transaction #1), \n",
    "* V1-V28 - 28 anonymized variables taken from a PCA transormation from perhaps more variables for data privacy, \n",
    "* the Amount column, which is the transaction amount (possibly in Euros), to aid in an example-dependent cost-sensitive learning, \n",
    "* then the Class variable - the target indicating 1 for Fraud and 0 for non-fraud.\n",
    "<br><br>\n",
    "##### Due to the PCA transform and scaling of the V1-V28 variables, there is little data preprocessing to do as most of the information is anonymized. However, there is still room for exploratory data analysis, as we you will see in the project below. <br><Br>"
   ]
  },
  {
   "cell_type": "markdown",
   "metadata": {},
   "source": [
    "### _<b>1. The Beginning </b>_"
   ]
  },
  {
   "cell_type": "code",
   "execution_count": 3,
   "metadata": {},
   "outputs": [
    {
     "data": {
      "text/html": [
       "<div>\n",
       "<style scoped>\n",
       "    .dataframe tbody tr th:only-of-type {\n",
       "        vertical-align: middle;\n",
       "    }\n",
       "\n",
       "    .dataframe tbody tr th {\n",
       "        vertical-align: top;\n",
       "    }\n",
       "\n",
       "    .dataframe thead th {\n",
       "        text-align: right;\n",
       "    }\n",
       "</style>\n",
       "<table border=\"1\" class=\"dataframe\">\n",
       "  <thead>\n",
       "    <tr style=\"text-align: right;\">\n",
       "      <th></th>\n",
       "      <th>Time</th>\n",
       "      <th>V1</th>\n",
       "      <th>V2</th>\n",
       "      <th>V3</th>\n",
       "      <th>V4</th>\n",
       "      <th>V5</th>\n",
       "      <th>V6</th>\n",
       "      <th>V7</th>\n",
       "      <th>V8</th>\n",
       "      <th>V9</th>\n",
       "      <th>...</th>\n",
       "      <th>V21</th>\n",
       "      <th>V22</th>\n",
       "      <th>V23</th>\n",
       "      <th>V24</th>\n",
       "      <th>V25</th>\n",
       "      <th>V26</th>\n",
       "      <th>V27</th>\n",
       "      <th>V28</th>\n",
       "      <th>Amount</th>\n",
       "      <th>Class</th>\n",
       "    </tr>\n",
       "  </thead>\n",
       "  <tbody>\n",
       "    <tr>\n",
       "      <th>0</th>\n",
       "      <td>0.0</td>\n",
       "      <td>-1.359807</td>\n",
       "      <td>-0.072781</td>\n",
       "      <td>2.536347</td>\n",
       "      <td>1.378155</td>\n",
       "      <td>-0.338321</td>\n",
       "      <td>0.462388</td>\n",
       "      <td>0.239599</td>\n",
       "      <td>0.098698</td>\n",
       "      <td>0.363787</td>\n",
       "      <td>...</td>\n",
       "      <td>-0.018307</td>\n",
       "      <td>0.277838</td>\n",
       "      <td>-0.110474</td>\n",
       "      <td>0.066928</td>\n",
       "      <td>0.128539</td>\n",
       "      <td>-0.189115</td>\n",
       "      <td>0.133558</td>\n",
       "      <td>-0.021053</td>\n",
       "      <td>149.62</td>\n",
       "      <td>0</td>\n",
       "    </tr>\n",
       "    <tr>\n",
       "      <th>1</th>\n",
       "      <td>0.0</td>\n",
       "      <td>1.191857</td>\n",
       "      <td>0.266151</td>\n",
       "      <td>0.166480</td>\n",
       "      <td>0.448154</td>\n",
       "      <td>0.060018</td>\n",
       "      <td>-0.082361</td>\n",
       "      <td>-0.078803</td>\n",
       "      <td>0.085102</td>\n",
       "      <td>-0.255425</td>\n",
       "      <td>...</td>\n",
       "      <td>-0.225775</td>\n",
       "      <td>-0.638672</td>\n",
       "      <td>0.101288</td>\n",
       "      <td>-0.339846</td>\n",
       "      <td>0.167170</td>\n",
       "      <td>0.125895</td>\n",
       "      <td>-0.008983</td>\n",
       "      <td>0.014724</td>\n",
       "      <td>2.69</td>\n",
       "      <td>0</td>\n",
       "    </tr>\n",
       "    <tr>\n",
       "      <th>2</th>\n",
       "      <td>1.0</td>\n",
       "      <td>-1.358354</td>\n",
       "      <td>-1.340163</td>\n",
       "      <td>1.773209</td>\n",
       "      <td>0.379780</td>\n",
       "      <td>-0.503198</td>\n",
       "      <td>1.800499</td>\n",
       "      <td>0.791461</td>\n",
       "      <td>0.247676</td>\n",
       "      <td>-1.514654</td>\n",
       "      <td>...</td>\n",
       "      <td>0.247998</td>\n",
       "      <td>0.771679</td>\n",
       "      <td>0.909412</td>\n",
       "      <td>-0.689281</td>\n",
       "      <td>-0.327642</td>\n",
       "      <td>-0.139097</td>\n",
       "      <td>-0.055353</td>\n",
       "      <td>-0.059752</td>\n",
       "      <td>378.66</td>\n",
       "      <td>0</td>\n",
       "    </tr>\n",
       "    <tr>\n",
       "      <th>3</th>\n",
       "      <td>1.0</td>\n",
       "      <td>-0.966272</td>\n",
       "      <td>-0.185226</td>\n",
       "      <td>1.792993</td>\n",
       "      <td>-0.863291</td>\n",
       "      <td>-0.010309</td>\n",
       "      <td>1.247203</td>\n",
       "      <td>0.237609</td>\n",
       "      <td>0.377436</td>\n",
       "      <td>-1.387024</td>\n",
       "      <td>...</td>\n",
       "      <td>-0.108300</td>\n",
       "      <td>0.005274</td>\n",
       "      <td>-0.190321</td>\n",
       "      <td>-1.175575</td>\n",
       "      <td>0.647376</td>\n",
       "      <td>-0.221929</td>\n",
       "      <td>0.062723</td>\n",
       "      <td>0.061458</td>\n",
       "      <td>123.50</td>\n",
       "      <td>0</td>\n",
       "    </tr>\n",
       "    <tr>\n",
       "      <th>4</th>\n",
       "      <td>2.0</td>\n",
       "      <td>-1.158233</td>\n",
       "      <td>0.877737</td>\n",
       "      <td>1.548718</td>\n",
       "      <td>0.403034</td>\n",
       "      <td>-0.407193</td>\n",
       "      <td>0.095921</td>\n",
       "      <td>0.592941</td>\n",
       "      <td>-0.270533</td>\n",
       "      <td>0.817739</td>\n",
       "      <td>...</td>\n",
       "      <td>-0.009431</td>\n",
       "      <td>0.798278</td>\n",
       "      <td>-0.137458</td>\n",
       "      <td>0.141267</td>\n",
       "      <td>-0.206010</td>\n",
       "      <td>0.502292</td>\n",
       "      <td>0.219422</td>\n",
       "      <td>0.215153</td>\n",
       "      <td>69.99</td>\n",
       "      <td>0</td>\n",
       "    </tr>\n",
       "  </tbody>\n",
       "</table>\n",
       "<p>5 rows × 31 columns</p>\n",
       "</div>"
      ],
      "text/plain": [
       "   Time        V1        V2        V3        V4        V5        V6        V7  \\\n",
       "0   0.0 -1.359807 -0.072781  2.536347  1.378155 -0.338321  0.462388  0.239599   \n",
       "1   0.0  1.191857  0.266151  0.166480  0.448154  0.060018 -0.082361 -0.078803   \n",
       "2   1.0 -1.358354 -1.340163  1.773209  0.379780 -0.503198  1.800499  0.791461   \n",
       "3   1.0 -0.966272 -0.185226  1.792993 -0.863291 -0.010309  1.247203  0.237609   \n",
       "4   2.0 -1.158233  0.877737  1.548718  0.403034 -0.407193  0.095921  0.592941   \n",
       "\n",
       "         V8        V9  ...       V21       V22       V23       V24       V25  \\\n",
       "0  0.098698  0.363787  ... -0.018307  0.277838 -0.110474  0.066928  0.128539   \n",
       "1  0.085102 -0.255425  ... -0.225775 -0.638672  0.101288 -0.339846  0.167170   \n",
       "2  0.247676 -1.514654  ...  0.247998  0.771679  0.909412 -0.689281 -0.327642   \n",
       "3  0.377436 -1.387024  ... -0.108300  0.005274 -0.190321 -1.175575  0.647376   \n",
       "4 -0.270533  0.817739  ... -0.009431  0.798278 -0.137458  0.141267 -0.206010   \n",
       "\n",
       "        V26       V27       V28  Amount  Class  \n",
       "0 -0.189115  0.133558 -0.021053  149.62      0  \n",
       "1  0.125895 -0.008983  0.014724    2.69      0  \n",
       "2 -0.139097 -0.055353 -0.059752  378.66      0  \n",
       "3 -0.221929  0.062723  0.061458  123.50      0  \n",
       "4  0.502292  0.219422  0.215153   69.99      0  \n",
       "\n",
       "[5 rows x 31 columns]"
      ]
     },
     "execution_count": 3,
     "metadata": {},
     "output_type": "execute_result"
    }
   ],
   "source": [
    "# Import all necessary libraries\n",
    "import numpy as np\n",
    "import pandas as pd\n",
    "import matplotlib.pyplot as plt\n",
    "import seaborn as sns\n",
    "%matplotlib inline\n",
    "\n",
    "from sklearn.model_selection import train_test_split, GridSearchCV, StratifiedKFold\n",
    "from sklearn.preprocessing import StandardScaler\n",
    "from sklearn.metrics import classification_report, roc_auc_score, roc_curve, confusion_matrix\n",
    "from sklearn.linear_model import LogisticRegression\n",
    "from sklearn.tree import DecisionTreeClassifier\n",
    "from sklearn.ensemble import RandomForestClassifier, AdaBoostClassifier\n",
    "from xgboost import XGBClassifier\n",
    "from lightgbm import LGBMClassifier\n",
    "from sklearn.svm import SVC\n",
    "\n",
    "df = pd.read_csv('creditcard.csv')\n",
    "df.head()"
   ]
  },
  {
   "cell_type": "code",
   "execution_count": 4,
   "metadata": {},
   "outputs": [
    {
     "name": "stdout",
     "output_type": "stream",
     "text": [
      "There are 1081 duplicate rows in the data and totally 284807 rows in the dataset.\n",
      "There are now 283726 rows in the dataset.\n"
     ]
    }
   ],
   "source": [
    "# Checking for duplicates and dropping them.\n",
    "print(f'There are {len(df[df.duplicated()==True])} duplicate rows in the data and totally {len(df)} rows in the dataset.')\n",
    "df = df.drop_duplicates()\n",
    "print(f'There are now {len(df)} rows in the dataset.')"
   ]
  },
  {
   "cell_type": "code",
   "execution_count": 72,
   "metadata": {},
   "outputs": [
    {
     "name": "stdout",
     "output_type": "stream",
     "text": [
      "There are 0 missing values in the data.\n"
     ]
    }
   ],
   "source": [
    "print(f'There are {df.isnull().sum().sum()} missing values in the data.')"
   ]
  },
  {
   "cell_type": "markdown",
   "metadata": {},
   "source": [
    "##### _The Amount Variable_\n",
    "The amount variable was not transformed by ULB while providing the dataset. The transaction amount column distinctly makes the dataset and this particular classification problem unique. There will be more details why throughout this notebook, but a brief - business proboems like customer churn in a bank, loan default, credit scoring, and mainly (according to me), credit card fraud detection :- involve a high financial cost. A high financial cost and a strong economic reason for optimizing savings by preventing fraud differentiates this classification problem compated to generic classifications. <br><br>\n",
    "The techniques used must not only aim to attain minimized loss functions for the classification algorithm, but also minimal financial costs (or maximized savings) through some domain knowledge. <br>\n",
    "Some of the ideas I have are beyond the scope of this particular notebook, and are 100% ready for future implementation. Back to the point, the amount column will give us an insight into the nature of the transactions itself, which will help us understand the data better. <br><br>"
   ]
  },
  {
   "cell_type": "code",
   "execution_count": 5,
   "metadata": {},
   "outputs": [
    {
     "data": {
      "text/plain": [
       "count    283726.000000\n",
       "mean         88.472687\n",
       "std         250.399437\n",
       "min           0.000000\n",
       "25%           5.600000\n",
       "50%          22.000000\n",
       "75%          77.510000\n",
       "max       25691.160000\n",
       "Name: Amount, dtype: float64"
      ]
     },
     "execution_count": 5,
     "metadata": {},
     "output_type": "execute_result"
    }
   ],
   "source": [
    "# Basic descriptive statistics of the transaction amount column.,\n",
    "df['Amount'].describe()"
   ]
  },
  {
   "cell_type": "code",
   "execution_count": 8,
   "metadata": {},
   "outputs": [
    {
     "name": "stdout",
     "output_type": "stream",
     "text": [
      "There are 1808 zero amounts in the data.\n"
     ]
    }
   ],
   "source": [
    "# How many zero amounts are there in the data?\n",
    "zeros = len(df[df['Amount']==float(0)])\n",
    "print(f'There are {zeros} zero amounts in the data.')"
   ]
  },
  {
   "cell_type": "code",
   "execution_count": 10,
   "metadata": {},
   "outputs": [
    {
     "name": "stdout",
     "output_type": "stream",
     "text": [
      "Out of the 1808 zero transactions, 25 transactions are fraudulent.\n"
     ]
    }
   ],
   "source": [
    "# How many of those 1808 zero amount transactions are fraud?\n",
    "fraud_zeros = df.loc[(df['Amount']==float(0)) & (df['Class']==1)].shape[0]\n",
    "print(f'Out of the 1808 zero transactions, {fraud_zeros} transactions are fraudulent.')"
   ]
  },
  {
   "cell_type": "markdown",
   "metadata": {},
   "source": [
    "Zero transactions can be interpreted in many ways, but a plausible theory is that zero credit card transaction is when a card needs to be approved by the merchant and just charges a zero for the _\"transaction\"_ for verification. And it is also plausible that some of these might be fraud due to stolen credit card details or cards themselves, and then getting them approved by the user (thief)? Wild theories."
   ]
  },
  {
   "cell_type": "code",
   "execution_count": 17,
   "metadata": {},
   "outputs": [
    {
     "data": {
      "image/png": "[encoded data removed]",
      "text/plain": [
       "<Figure size 864x576 with 1 Axes>"
      ]
     },
     "metadata": {
      "needs_background": "light"
     },
     "output_type": "display_data"
    }
   ],
   "source": [
    "# A distribution ploit of the amount column will help us see how the shape of the data is.\n",
    "plt.figure(figsize=(12,8))\n",
    "sns.histplot(df[df['Amount']!=0.0]['Amount'])\n",
    "plt.title('Distribution of Amounts', fontdict=dict(fontsize=15, fontfamily='Cambria'))\n",
    "plt.show()"
   ]
  },
  {
   "cell_type": "markdown",
   "metadata": {},
   "source": [
    "The amount column clearly has a long right tail. There seems to be a lot of transactions with amount less than 100, maybe?"
   ]
  },
  {
   "cell_type": "code",
   "execution_count": 16,
   "metadata": {},
   "outputs": [
    {
     "name": "stdout",
     "output_type": "stream",
     "text": [
      "The 75% (Q3) of the transaction amounts columns is: 77.51 units.\n",
      "Percentage of the data where the amount is lesser than 100 units is: 79.81 %\n",
      "Percentage of the data where the amount is less than or equal to 2 units is: 16.87 %\n"
     ]
    }
   ],
   "source": [
    "print('The 75% (Q3) of the transaction amounts column is:', round(df['Amount'].describe()['75%'],2), 'units.')\n",
    "print('Percentage of the data where the amount is lesser than 100 units is:', round((len(df[df['Amount']<100.0])/len(df))*100,2),'%')\n",
    "print('Percentage of the data where the amount is less than or equal to 2 units is:', round((len(df[df['Amount']<=2.0])/len(df))*100,2),'%')"
   ]
  },
  {
   "cell_type": "markdown",
   "metadata": {},
   "source": [
    "Close to 80% of the data (227,000 approximate observations) has transaction amounts less than 100. While the 75% (Q3) value for the transaction amounts is 77.165, just about 2.5% of amounts lie between 77 to 100 units. \n",
    "\n",
    "It will be interesting to see the distribution of the amounts column for all amounts less than 100 units. Moreover, how many of the fraudulent transactions contain amounts less than 100 as a proportion of total frauds will be interesting to see. Let's get on with it!"
   ]
  },
  {
   "cell_type": "code",
   "execution_count": 95,
   "metadata": {},
   "outputs": [
    {
     "data": {
      "image/png": "[encoded data removed]",
      "text/plain": [
       "<Figure size 864x576 with 1 Axes>"
      ]
     },
     "metadata": {
      "needs_background": "light"
     },
     "output_type": "display_data"
    }
   ],
   "source": [
    "plt.figure(figsize=(12,8))\n",
    "sns.histplot(df[df['Amount']<100]['Amount'])\n",
    "plt.title('Distribution of Transaction Amount less than 100 units', fontdict=dict(fontsize=14, fontfamily='Cambria'))\n",
    "plt.show()"
   ]
  },
  {
   "cell_type": "code",
   "execution_count": 96,
   "metadata": {},
   "outputs": [
    {
     "data": {
      "text/plain": [
       "count    56399.000000\n",
       "mean       348.279763\n",
       "std        477.987853\n",
       "min        100.010000\n",
       "25%        141.000000\n",
       "50%        204.820000\n",
       "75%        367.985000\n",
       "max      25691.160000\n",
       "Name: Amount, dtype: float64"
      ]
     },
     "execution_count": 96,
     "metadata": {},
     "output_type": "execute_result"
    }
   ],
   "source": [
    "df[df['Amount']>100]['Amount'].describe()"
   ]
  },
  {
   "cell_type": "markdown",
   "metadata": {},
   "source": [
    "The top 20% of the amounts (amounts larger than 100 units) have a similar Q3 and mean value - which means that the Q3 to Max have some extremely large values. As we can see, 75% amounts is 368 and the maximum amount is 25,691 - close to 70 times higher."
   ]
  },
  {
   "cell_type": "code",
   "execution_count": 97,
   "metadata": {},
   "outputs": [
    {
     "name": "stdout",
     "output_type": "stream",
     "text": [
      "98.9201% of the data has less than 1000 units amount.\n"
     ]
    }
   ],
   "source": [
    "print('{}% of the data has less than 1000 units amount.'.format(round((len(df[df['Amount']<1000])/len(df))*100,4)))"
   ]
  },
  {
   "cell_type": "markdown",
   "metadata": {},
   "source": [
    "So, approximately 99% of amounts are less than 1000 Euros. Barring some outrageously large outliers such as 25,691 Euros, the transactions are right-skewed with 99% of the values between 0 and 1. <br><br>\n",
    "Below is the graph that shows amounts from 0 to 1000 in the dataset."
   ]
  },
  {
   "cell_type": "code",
   "execution_count": 136,
   "metadata": {},
   "outputs": [
    {
     "data": {
      "image/png": "[encoded data removed]",
      "text/plain": [
       "<Figure size 864x576 with 1 Axes>"
      ]
     },
     "metadata": {
      "needs_background": "light"
     },
     "output_type": "display_data"
    }
   ],
   "source": [
    "plt.figure(figsize=(12,8))\n",
    "sns.histplot(df[df['Amount']<1000]['Amount'], bins=250)\n",
    "plt.title('Distribution of Transaction Amount less than 1000 euros', fontdict=dict(fontsize=14, fontfamily='Cambria'))\n",
    "plt.show()"
   ]
  },
  {
   "cell_type": "markdown",
   "metadata": {},
   "source": [
    "There seems to be about 60,000 transactions with amounts less than 4 Euros."
   ]
  },
  {
   "cell_type": "code",
   "execution_count": 99,
   "metadata": {},
   "outputs": [
    {
     "name": "stdout",
     "output_type": "stream",
     "text": [
      "Proportion of the fraudulent data out of total frauds when amount is less than 100: 73.573%\n",
      "Total frauds when amount is less than 100: 348 out of 473\n"
     ]
    }
   ],
   "source": [
    "proportion = df.loc[(df['Amount']<100) & (df['Class']==1)].shape[0]/df[df['Class']==1].shape[0]\n",
    "total_frauds_100 = df.loc[(df['Amount']<100) & (df['Class']==1)].shape[0]\n",
    "print('Proportion of the fraudulent transactions out of total frauds when amount is less than 100: {}%'.format(round((proportion*100),3)))\n",
    "print('Total frauds when amount is less than 100: {} out of {}'.format(total_frauds_100, df[df['Class']==1].shape[0]))"
   ]
  },
  {
   "cell_type": "markdown",
   "metadata": {},
   "source": [
    "Nothing out of the ordinary - since close to 80% of the Amounts are lesser than 100, having 73.573% of the total fraudulent transactions fraud when amount is less than 100 is not too surprising.\n",
    "\n",
    "It also means that the amount as a standalone variable is not enough to determine whether a transaction is a fraud or not."
   ]
  },
  {
   "cell_type": "markdown",
   "metadata": {},
   "source": [
    "### _<b>2. The Middle</b>_\n",
    "Data understanding and preparations for classification!"
   ]
  },
  {
   "cell_type": "code",
   "execution_count": 22,
   "metadata": {},
   "outputs": [
    {
     "name": "stdout",
     "output_type": "stream",
     "text": [
      "Classes Value Counts\n",
      "-------------------------\n",
      "0    283253\n",
      "1       473\n",
      "Name: Class, dtype: int64\n",
      "-------------------------\n",
      "Non-Fraud transactions constitute 99.83% of the dataset\n",
      "Fraud transactions constitute 0.17% of the dataset\n"
     ]
    }
   ],
   "source": [
    "print('Classes Value Counts')\n",
    "print('-------------------------')\n",
    "print(df['Class'].value_counts())\n",
    "print('-------------------------')\n",
    "print('Non-Fraud transactions constitute {}% of the dataset'.format(round(((len(df[df['Class']==0])/df.shape[0])*100), 2)))\n",
    "print('Fraud transactions constitute {}% of the dataset'.format(round(((len(df[df['Class']==1])/df.shape[0])*100), 2)))"
   ]
  },
  {
   "cell_type": "code",
   "execution_count": 23,
   "metadata": {},
   "outputs": [
    {
     "data": {
      "image/png": "[encoded data removed]",
      "text/plain": [
       "<Figure size 864x648 with 1 Axes>"
      ]
     },
     "metadata": {
      "needs_background": "light"
     },
     "output_type": "display_data"
    }
   ],
   "source": [
    "ratio_array = [df['Class'].value_counts()[0], df['Class'].value_counts()[1]]\n",
    "plt.figure(figsize=(12,9))\n",
    "plt.bar(x=['Non-Frauds', 'Frauds'], height=ratio_array)\n",
    "plt.title('Class Imbalance Highly Prevalent', fontdict=dict(fontsize=16, fontfamily='Cambria'))\n",
    "plt.show()"
   ]
  },
  {
   "cell_type": "markdown",
   "metadata": {},
   "source": [
    "_This immensely imbalanced data is the reason why processes such as undersampling or oversampling is typically used to train the model with sufficient examples of both categories (in a binary classification problem) so that the model can be generalized well and not overfit on the training data. This has its own downsides based on the problem, or even in general, as we will see soon. For the Credit Card fraud detection example in this project however, I have my own reasons for why I choose NOT to resample the data for training, as you will see soon below._"
   ]
  },
  {
   "cell_type": "code",
   "execution_count": 83,
   "metadata": {},
   "outputs": [
    {
     "data": {
      "image/png": "[encoded data removed]",
      "text/plain": [
       "<Figure size 1008x648 with 2 Axes>"
      ]
     },
     "metadata": {
      "needs_background": "light"
     },
     "output_type": "display_data"
    }
   ],
   "source": [
    "plt.figure(figsize=(14,9))\n",
    "sns.heatmap(df.corr(method='pearson'), vmin=-1.0, vmax=1.0, cmap='winter_r')\n",
    "plt.title('Correlation Matrix', fontdict=dict(fontsize=15, fontfamily='Cambria'))\n",
    "plt.show()"
   ]
  },
  {
   "cell_type": "markdown",
   "metadata": {},
   "source": [
    "The correlation matrix calculated based on the Pearson correlation statistics for all the variables in the data show no significant positive or negative correlation relationships between the variables. This merely means there is no strong linear dependencies between the variables of the data. However, the target variable Class shows some negative correlation with V12, V14 and V17. <br><br>\n",
    "It is also interesting to see a slightly higher correlation between Amount and V2, V7. It will be interesting to see a graphical plot of these relationships."
   ]
  },
  {
   "cell_type": "code",
   "execution_count": 52,
   "metadata": {},
   "outputs": [
    {
     "data": {
      "image/png": "[encoded data removed]",
      "text/plain": [
       "<Figure size 1152x576 with 2 Axes>"
      ]
     },
     "metadata": {
      "needs_background": "light"
     },
     "output_type": "display_data"
    }
   ],
   "source": [
    "# Scatter plots below\n",
    "plt.figure(figsize=(16,8))\n",
    "plt.subplot(1,2,1)\n",
    "sns.scatterplot(x=df['V7'], y=df['Amount'])\n",
    "plt.title('Scatter Plot between V7 & Amount', fontdict=dict(fontsize=15, fontfamily='Cambria'))\n",
    "\n",
    "plt.subplot(1,2,2)\n",
    "sns.scatterplot(x=df['V2'], y=df['Amount'])\n",
    "plt.title('Scatter Plot between V2 & Amount', fontdict=dict(fontsize=15, fontfamily='Cambria'))\n",
    "plt.show()"
   ]
  },
  {
   "cell_type": "markdown",
   "metadata": {},
   "source": [
    "V2 shows a more diverging pattern from the origin (0,0 in the cartesian plane) toward the second quadrant. It is clear that the largest values in Amount and V7 show a relationship, and that could provide the \"outlying\" anchor for the correlation to exist in first place. It will be interesting to see the relationship without the largest amount value. Graphs below."
   ]
  },
  {
   "cell_type": "code",
   "execution_count": 71,
   "metadata": {},
   "outputs": [
    {
     "data": {
      "text/plain": [
       "274771    0\n",
       "Name: Class, dtype: int64"
      ]
     },
     "execution_count": 71,
     "metadata": {},
     "output_type": "execute_result"
    }
   ],
   "source": [
    "max_amount = df['Amount'].max()\n",
    "max_amount_index = df[df['Amount']==max_amount].index\n",
    "df.loc[max_amount_index]['Class']"
   ]
  },
  {
   "cell_type": "markdown",
   "metadata": {},
   "source": [
    "The transaction with the largest amount of 25,691.16 Euros is not a fraud :D"
   ]
  },
  {
   "cell_type": "code",
   "execution_count": 55,
   "metadata": {},
   "outputs": [
    {
     "data": {
      "image/png": "[encoded data removed]",
      "text/plain": [
       "<Figure size 1152x576 with 2 Axes>"
      ]
     },
     "metadata": {
      "needs_background": "light"
     },
     "output_type": "display_data"
    }
   ],
   "source": [
    "df_without_maxamt = df.drop(max_amount_index, axis=0)\n",
    "plt.figure(figsize=(16,8))\n",
    "plt.subplot(1,2,1)\n",
    "sns.scatterplot(x=df_without_maxamt['V7'], y=df_without_maxamt['Amount'])\n",
    "plt.title('Scatter Plot between V7 & Amount', fontdict=dict(fontsize=15, fontfamily='Cambria'))\n",
    "\n",
    "plt.subplot(1,2,2)\n",
    "sns.scatterplot(x=df_without_maxamt['V2'], y=df_without_maxamt['Amount'])\n",
    "plt.title('Scatter Plot between V2 & Amount', fontdict=dict(fontsize=15, fontfamily='Cambria'))\n",
    "plt.show()"
   ]
  },
  {
   "cell_type": "markdown",
   "metadata": {},
   "source": [
    "Pretty much the same relationship. To be expected, since the largest amount value is just one value out of 238,000 obsrevations. "
   ]
  },
  {
   "cell_type": "markdown",
   "metadata": {},
   "source": [
    "### _Preparations_"
   ]
  },
  {
   "cell_type": "code",
   "execution_count": 35,
   "metadata": {},
   "outputs": [
    {
     "data": {
      "text/html": [
       "<div>\n",
       "<style scoped>\n",
       "    .dataframe tbody tr th:only-of-type {\n",
       "        vertical-align: middle;\n",
       "    }\n",
       "\n",
       "    .dataframe tbody tr th {\n",
       "        vertical-align: top;\n",
       "    }\n",
       "\n",
       "    .dataframe thead th {\n",
       "        text-align: right;\n",
       "    }\n",
       "</style>\n",
       "<table border=\"1\" class=\"dataframe\">\n",
       "  <thead>\n",
       "    <tr style=\"text-align: right;\">\n",
       "      <th></th>\n",
       "      <th>Time</th>\n",
       "      <th>V1</th>\n",
       "      <th>V2</th>\n",
       "      <th>V3</th>\n",
       "      <th>V4</th>\n",
       "      <th>V5</th>\n",
       "      <th>V6</th>\n",
       "      <th>V7</th>\n",
       "      <th>V8</th>\n",
       "      <th>V9</th>\n",
       "      <th>...</th>\n",
       "      <th>V21</th>\n",
       "      <th>V22</th>\n",
       "      <th>V23</th>\n",
       "      <th>V24</th>\n",
       "      <th>V25</th>\n",
       "      <th>V26</th>\n",
       "      <th>V27</th>\n",
       "      <th>V28</th>\n",
       "      <th>Amount</th>\n",
       "      <th>Class</th>\n",
       "    </tr>\n",
       "  </thead>\n",
       "  <tbody>\n",
       "    <tr>\n",
       "      <th>0</th>\n",
       "      <td>0.0</td>\n",
       "      <td>-1.359807</td>\n",
       "      <td>-0.072781</td>\n",
       "      <td>2.536347</td>\n",
       "      <td>1.378155</td>\n",
       "      <td>-0.338321</td>\n",
       "      <td>0.462388</td>\n",
       "      <td>0.239599</td>\n",
       "      <td>0.098698</td>\n",
       "      <td>0.363787</td>\n",
       "      <td>...</td>\n",
       "      <td>-0.018307</td>\n",
       "      <td>0.277838</td>\n",
       "      <td>-0.110474</td>\n",
       "      <td>0.066928</td>\n",
       "      <td>0.128539</td>\n",
       "      <td>-0.189115</td>\n",
       "      <td>0.133558</td>\n",
       "      <td>-0.021053</td>\n",
       "      <td>149.62</td>\n",
       "      <td>0</td>\n",
       "    </tr>\n",
       "    <tr>\n",
       "      <th>1</th>\n",
       "      <td>0.0</td>\n",
       "      <td>1.191857</td>\n",
       "      <td>0.266151</td>\n",
       "      <td>0.166480</td>\n",
       "      <td>0.448154</td>\n",
       "      <td>0.060018</td>\n",
       "      <td>-0.082361</td>\n",
       "      <td>-0.078803</td>\n",
       "      <td>0.085102</td>\n",
       "      <td>-0.255425</td>\n",
       "      <td>...</td>\n",
       "      <td>-0.225775</td>\n",
       "      <td>-0.638672</td>\n",
       "      <td>0.101288</td>\n",
       "      <td>-0.339846</td>\n",
       "      <td>0.167170</td>\n",
       "      <td>0.125895</td>\n",
       "      <td>-0.008983</td>\n",
       "      <td>0.014724</td>\n",
       "      <td>2.69</td>\n",
       "      <td>0</td>\n",
       "    </tr>\n",
       "    <tr>\n",
       "      <th>2</th>\n",
       "      <td>1.0</td>\n",
       "      <td>-1.358354</td>\n",
       "      <td>-1.340163</td>\n",
       "      <td>1.773209</td>\n",
       "      <td>0.379780</td>\n",
       "      <td>-0.503198</td>\n",
       "      <td>1.800499</td>\n",
       "      <td>0.791461</td>\n",
       "      <td>0.247676</td>\n",
       "      <td>-1.514654</td>\n",
       "      <td>...</td>\n",
       "      <td>0.247998</td>\n",
       "      <td>0.771679</td>\n",
       "      <td>0.909412</td>\n",
       "      <td>-0.689281</td>\n",
       "      <td>-0.327642</td>\n",
       "      <td>-0.139097</td>\n",
       "      <td>-0.055353</td>\n",
       "      <td>-0.059752</td>\n",
       "      <td>378.66</td>\n",
       "      <td>0</td>\n",
       "    </tr>\n",
       "    <tr>\n",
       "      <th>3</th>\n",
       "      <td>1.0</td>\n",
       "      <td>-0.966272</td>\n",
       "      <td>-0.185226</td>\n",
       "      <td>1.792993</td>\n",
       "      <td>-0.863291</td>\n",
       "      <td>-0.010309</td>\n",
       "      <td>1.247203</td>\n",
       "      <td>0.237609</td>\n",
       "      <td>0.377436</td>\n",
       "      <td>-1.387024</td>\n",
       "      <td>...</td>\n",
       "      <td>-0.108300</td>\n",
       "      <td>0.005274</td>\n",
       "      <td>-0.190321</td>\n",
       "      <td>-1.175575</td>\n",
       "      <td>0.647376</td>\n",
       "      <td>-0.221929</td>\n",
       "      <td>0.062723</td>\n",
       "      <td>0.061458</td>\n",
       "      <td>123.50</td>\n",
       "      <td>0</td>\n",
       "    </tr>\n",
       "    <tr>\n",
       "      <th>4</th>\n",
       "      <td>2.0</td>\n",
       "      <td>-1.158233</td>\n",
       "      <td>0.877737</td>\n",
       "      <td>1.548718</td>\n",
       "      <td>0.403034</td>\n",
       "      <td>-0.407193</td>\n",
       "      <td>0.095921</td>\n",
       "      <td>0.592941</td>\n",
       "      <td>-0.270533</td>\n",
       "      <td>0.817739</td>\n",
       "      <td>...</td>\n",
       "      <td>-0.009431</td>\n",
       "      <td>0.798278</td>\n",
       "      <td>-0.137458</td>\n",
       "      <td>0.141267</td>\n",
       "      <td>-0.206010</td>\n",
       "      <td>0.502292</td>\n",
       "      <td>0.219422</td>\n",
       "      <td>0.215153</td>\n",
       "      <td>69.99</td>\n",
       "      <td>0</td>\n",
       "    </tr>\n",
       "  </tbody>\n",
       "</table>\n",
       "<p>5 rows × 31 columns</p>\n",
       "</div>"
      ],
      "text/plain": [
       "   Time        V1        V2        V3        V4        V5        V6        V7  \\\n",
       "0   0.0 -1.359807 -0.072781  2.536347  1.378155 -0.338321  0.462388  0.239599   \n",
       "1   0.0  1.191857  0.266151  0.166480  0.448154  0.060018 -0.082361 -0.078803   \n",
       "2   1.0 -1.358354 -1.340163  1.773209  0.379780 -0.503198  1.800499  0.791461   \n",
       "3   1.0 -0.966272 -0.185226  1.792993 -0.863291 -0.010309  1.247203  0.237609   \n",
       "4   2.0 -1.158233  0.877737  1.548718  0.403034 -0.407193  0.095921  0.592941   \n",
       "\n",
       "         V8        V9  ...       V21       V22       V23       V24       V25  \\\n",
       "0  0.098698  0.363787  ... -0.018307  0.277838 -0.110474  0.066928  0.128539   \n",
       "1  0.085102 -0.255425  ... -0.225775 -0.638672  0.101288 -0.339846  0.167170   \n",
       "2  0.247676 -1.514654  ...  0.247998  0.771679  0.909412 -0.689281 -0.327642   \n",
       "3  0.377436 -1.387024  ... -0.108300  0.005274 -0.190321 -1.175575  0.647376   \n",
       "4 -0.270533  0.817739  ... -0.009431  0.798278 -0.137458  0.141267 -0.206010   \n",
       "\n",
       "        V26       V27       V28  Amount  Class  \n",
       "0 -0.189115  0.133558 -0.021053  149.62      0  \n",
       "1  0.125895 -0.008983  0.014724    2.69      0  \n",
       "2 -0.139097 -0.055353 -0.059752  378.66      0  \n",
       "3 -0.221929  0.062723  0.061458  123.50      0  \n",
       "4  0.502292  0.219422  0.215153   69.99      0  \n",
       "\n",
       "[5 rows x 31 columns]"
      ]
     },
     "execution_count": 35,
     "metadata": {},
     "output_type": "execute_result"
    }
   ],
   "source": [
    "df.head()"
   ]
  },
  {
   "cell_type": "code",
   "execution_count": 73,
   "metadata": {},
   "outputs": [],
   "source": [
    "# I am dropping the time variable, I will include it for future iterations of the project.\n",
    "df = df.drop(['Time'], axis=1)"
   ]
  },
  {
   "cell_type": "markdown",
   "metadata": {},
   "source": [
    "How are the classes _weighted_? the weights are nothing but essentially asking \"for one fraudulent transaction, how many legitimate transactions are in the dataset?\" <br><br>\n",
    "This weight will become the basis for the ML model design as you'll see in later stages of the notebook.<br><br>\n",
    "Interesting thing is, the class weights are more than just how many transactions there are in the dataset, since that is bound to change in the future. Despite there being 235,000+ transactions in the dataset, merely the number of transactions per class may not be the only way to identify weights. <br><br>\n",
    "For example, this is where we can use the _transaction Amount_ column to come up with a weight. For example, what is the average amount for a fraudulent transaction compared to a non-fraud transaction - with the hypothesis being that fraudulent transactions have a higher average amount than legitimate transaction."
   ]
  },
  {
   "cell_type": "code",
   "execution_count": 79,
   "metadata": {},
   "outputs": [
    {
     "name": "stdout",
     "output_type": "stream",
     "text": [
      "For every fraud transaction, there are approximately 598 legitimate transactions in the data.\n",
      "The amount transacted is likely to be 1.401 times higher if the transaction is a fraud than if the transaction is legitimate.\n"
     ]
    }
   ],
   "source": [
    "transaction_weight = round(int(len(df[df['Class']==0])/len(df[df['Class']==1])),0)\n",
    "amount_weight = df[df['Class']==1]['Amount'].describe()['mean']/df[df['Class']==0]['Amount'].describe()['mean']\n",
    "print(f'For every fraud transaction, there are approximately {transaction_weight} legitimate transactions in the data.')\n",
    "print(f'The amount transacted is likely to be {round(amount_weight, 3)} times higher if the transaction is a fraud than if the transaction is legitimate.')"
   ]
  },
  {
   "cell_type": "markdown",
   "metadata": {},
   "source": [
    "We can see this in a basic descriptive statistics for each type of Class"
   ]
  },
  {
   "cell_type": "code",
   "execution_count": 158,
   "metadata": {},
   "outputs": [
    {
     "name": "stdout",
     "output_type": "stream",
     "text": [
      "Descriptive Statistics of Amount when the transaction is legitimate\n",
      "------------------------------- \n",
      "count    283253.000000\n",
      "mean         88.413575\n",
      "std         250.379023\n",
      "min           0.000000\n",
      "25%           5.670000\n",
      "50%          22.000000\n",
      "75%          77.460000\n",
      "max       25691.160000\n",
      "Name: Amount, dtype: float64\n",
      "------------------------------- \n",
      "Descriptive Statistics of Amount when the transaction is fraud\n",
      "------------------------------- \n",
      "count     473.000000\n",
      "mean      123.871860\n",
      "std       260.211041\n",
      "min         0.000000\n",
      "25%         1.000000\n",
      "50%         9.820000\n",
      "75%       105.890000\n",
      "max      2125.870000\n",
      "Name: Amount, dtype: float64\n"
     ]
    }
   ],
   "source": [
    "print('Descriptive Statistics of Amount when the transaction is legitimate')\n",
    "print('------------------------------- ')\n",
    "print(df[df['Class']==0]['Amount'].describe())\n",
    "print('------------------------------- ')\n",
    "print('Descriptive Statistics of Amount when the transaction is fraud')\n",
    "print('------------------------------- ')\n",
    "print(df[df['Class']==1]['Amount'].describe())"
   ]
  },
  {
   "cell_type": "markdown",
   "metadata": {},
   "source": [
    "Despite the amounts in legitimate transactions having a maximum value 12 times more than than of fraudulent transactions, the mean amount for frauds is 36 eur higher than legit ones."
   ]
  },
  {
   "cell_type": "code",
   "execution_count": 143,
   "metadata": {},
   "outputs": [],
   "source": [
    "# It is time to split the dataset into the X MAtrix and the y (target) vector and then tain test split them.\n",
    "X, y = df.drop('Class', axis=1).values, df['Class'].values\n",
    "X_train, X_test, y_train, y_test = train_test_split(X, y, test_size=0.30, stratify=y, random_state=42)"
   ]
  },
  {
   "cell_type": "code",
   "execution_count": 144,
   "metadata": {},
   "outputs": [],
   "source": [
    "columns = df.columns.values.tolist()[:-1]\n",
    "X_train = pd.DataFrame(X_train, columns=columns)"
   ]
  },
  {
   "cell_type": "code",
   "execution_count": 145,
   "metadata": {},
   "outputs": [
    {
     "data": {
      "text/html": [
       "<div>\n",
       "<style scoped>\n",
       "    .dataframe tbody tr th:only-of-type {\n",
       "        vertical-align: middle;\n",
       "    }\n",
       "\n",
       "    .dataframe tbody tr th {\n",
       "        vertical-align: top;\n",
       "    }\n",
       "\n",
       "    .dataframe thead th {\n",
       "        text-align: right;\n",
       "    }\n",
       "</style>\n",
       "<table border=\"1\" class=\"dataframe\">\n",
       "  <thead>\n",
       "    <tr style=\"text-align: right;\">\n",
       "      <th></th>\n",
       "      <th>V1</th>\n",
       "      <th>V2</th>\n",
       "      <th>V3</th>\n",
       "      <th>V4</th>\n",
       "      <th>V5</th>\n",
       "      <th>V6</th>\n",
       "      <th>V7</th>\n",
       "      <th>V8</th>\n",
       "      <th>V9</th>\n",
       "      <th>V10</th>\n",
       "      <th>...</th>\n",
       "      <th>V20</th>\n",
       "      <th>V21</th>\n",
       "      <th>V22</th>\n",
       "      <th>V23</th>\n",
       "      <th>V24</th>\n",
       "      <th>V25</th>\n",
       "      <th>V26</th>\n",
       "      <th>V27</th>\n",
       "      <th>V28</th>\n",
       "      <th>Amount</th>\n",
       "    </tr>\n",
       "  </thead>\n",
       "  <tbody>\n",
       "    <tr>\n",
       "      <th>0</th>\n",
       "      <td>2.139297</td>\n",
       "      <td>-2.379957</td>\n",
       "      <td>-0.588094</td>\n",
       "      <td>-2.116887</td>\n",
       "      <td>-0.151810</td>\n",
       "      <td>4.930636</td>\n",
       "      <td>-3.133495</td>\n",
       "      <td>1.408309</td>\n",
       "      <td>0.431508</td>\n",
       "      <td>1.189920</td>\n",
       "      <td>...</td>\n",
       "      <td>-0.379746</td>\n",
       "      <td>-0.073778</td>\n",
       "      <td>0.629693</td>\n",
       "      <td>0.241327</td>\n",
       "      <td>0.738886</td>\n",
       "      <td>-0.314844</td>\n",
       "      <td>0.044060</td>\n",
       "      <td>0.139812</td>\n",
       "      <td>-0.034152</td>\n",
       "      <td>-0.308400</td>\n",
       "    </tr>\n",
       "    <tr>\n",
       "      <th>1</th>\n",
       "      <td>-2.150992</td>\n",
       "      <td>0.447565</td>\n",
       "      <td>0.584405</td>\n",
       "      <td>1.181052</td>\n",
       "      <td>0.180772</td>\n",
       "      <td>-1.200828</td>\n",
       "      <td>-0.106578</td>\n",
       "      <td>0.771604</td>\n",
       "      <td>-1.441208</td>\n",
       "      <td>-0.481802</td>\n",
       "      <td>...</td>\n",
       "      <td>0.028937</td>\n",
       "      <td>-0.066225</td>\n",
       "      <td>-0.869480</td>\n",
       "      <td>-0.041398</td>\n",
       "      <td>0.501689</td>\n",
       "      <td>-0.198083</td>\n",
       "      <td>-0.732049</td>\n",
       "      <td>-0.234089</td>\n",
       "      <td>-0.221309</td>\n",
       "      <td>-0.363961</td>\n",
       "    </tr>\n",
       "    <tr>\n",
       "      <th>2</th>\n",
       "      <td>-6.000510</td>\n",
       "      <td>-5.868708</td>\n",
       "      <td>-1.210423</td>\n",
       "      <td>2.234168</td>\n",
       "      <td>-0.925608</td>\n",
       "      <td>0.019870</td>\n",
       "      <td>0.012067</td>\n",
       "      <td>0.910109</td>\n",
       "      <td>-0.905567</td>\n",
       "      <td>0.233812</td>\n",
       "      <td>...</td>\n",
       "      <td>0.545803</td>\n",
       "      <td>-0.132715</td>\n",
       "      <td>-0.755490</td>\n",
       "      <td>0.460192</td>\n",
       "      <td>-0.747164</td>\n",
       "      <td>-0.243348</td>\n",
       "      <td>-0.205593</td>\n",
       "      <td>0.915416</td>\n",
       "      <td>-1.136679</td>\n",
       "      <td>1.876398</td>\n",
       "    </tr>\n",
       "    <tr>\n",
       "      <th>3</th>\n",
       "      <td>2.021325</td>\n",
       "      <td>-0.535640</td>\n",
       "      <td>-0.416146</td>\n",
       "      <td>-0.124310</td>\n",
       "      <td>-0.178832</td>\n",
       "      <td>0.918878</td>\n",
       "      <td>-1.042599</td>\n",
       "      <td>0.318182</td>\n",
       "      <td>1.072180</td>\n",
       "      <td>0.119271</td>\n",
       "      <td>...</td>\n",
       "      <td>-0.078728</td>\n",
       "      <td>0.020950</td>\n",
       "      <td>0.209552</td>\n",
       "      <td>0.220896</td>\n",
       "      <td>-0.311931</td>\n",
       "      <td>-0.459092</td>\n",
       "      <td>0.495448</td>\n",
       "      <td>-0.012725</td>\n",
       "      <td>-0.051766</td>\n",
       "      <td>-0.359922</td>\n",
       "    </tr>\n",
       "    <tr>\n",
       "      <th>4</th>\n",
       "      <td>0.149536</td>\n",
       "      <td>0.807852</td>\n",
       "      <td>-0.590906</td>\n",
       "      <td>-0.509802</td>\n",
       "      <td>1.145394</td>\n",
       "      <td>-1.116329</td>\n",
       "      <td>0.935687</td>\n",
       "      <td>-0.234237</td>\n",
       "      <td>0.014499</td>\n",
       "      <td>-1.110721</td>\n",
       "      <td>...</td>\n",
       "      <td>-0.122272</td>\n",
       "      <td>0.220651</td>\n",
       "      <td>0.679815</td>\n",
       "      <td>-0.349294</td>\n",
       "      <td>-0.734172</td>\n",
       "      <td>0.185243</td>\n",
       "      <td>-0.114120</td>\n",
       "      <td>0.027129</td>\n",
       "      <td>0.015322</td>\n",
       "      <td>-0.344877</td>\n",
       "    </tr>\n",
       "  </tbody>\n",
       "</table>\n",
       "<p>5 rows × 29 columns</p>\n",
       "</div>"
      ],
      "text/plain": [
       "         V1        V2        V3        V4        V5        V6        V7  \\\n",
       "0  2.139297 -2.379957 -0.588094 -2.116887 -0.151810  4.930636 -3.133495   \n",
       "1 -2.150992  0.447565  0.584405  1.181052  0.180772 -1.200828 -0.106578   \n",
       "2 -6.000510 -5.868708 -1.210423  2.234168 -0.925608  0.019870  0.012067   \n",
       "3  2.021325 -0.535640 -0.416146 -0.124310 -0.178832  0.918878 -1.042599   \n",
       "4  0.149536  0.807852 -0.590906 -0.509802  1.145394 -1.116329  0.935687   \n",
       "\n",
       "         V8        V9       V10  ...       V20       V21       V22       V23  \\\n",
       "0  1.408309  0.431508  1.189920  ... -0.379746 -0.073778  0.629693  0.241327   \n",
       "1  0.771604 -1.441208 -0.481802  ...  0.028937 -0.066225 -0.869480 -0.041398   \n",
       "2  0.910109 -0.905567  0.233812  ...  0.545803 -0.132715 -0.755490  0.460192   \n",
       "3  0.318182  1.072180  0.119271  ... -0.078728  0.020950  0.209552  0.220896   \n",
       "4 -0.234237  0.014499 -1.110721  ... -0.122272  0.220651  0.679815 -0.349294   \n",
       "\n",
       "        V24       V25       V26       V27       V28    Amount  \n",
       "0  0.738886 -0.314844  0.044060  0.139812 -0.034152 -0.308400  \n",
       "1  0.501689 -0.198083 -0.732049 -0.234089 -0.221309 -0.363961  \n",
       "2 -0.747164 -0.243348 -0.205593  0.915416 -1.136679  1.876398  \n",
       "3 -0.311931 -0.459092  0.495448 -0.012725 -0.051766 -0.359922  \n",
       "4 -0.734172  0.185243 -0.114120  0.027129  0.015322 -0.344877  \n",
       "\n",
       "[5 rows x 29 columns]"
      ]
     },
     "execution_count": 145,
     "metadata": {},
     "output_type": "execute_result"
    }
   ],
   "source": [
    "# Apply StandardScaler\n",
    "sscaler = StandardScaler()\n",
    "X_train['Amount'] = sscaler.fit_transform(X_train['Amount'].values.reshape(-1,1))\n",
    "X_train.head()"
   ]
  },
  {
   "cell_type": "code",
   "execution_count": 157,
   "metadata": {},
   "outputs": [
    {
     "data": {
      "text/html": [
       "<div>\n",
       "<style scoped>\n",
       "    .dataframe tbody tr th:only-of-type {\n",
       "        vertical-align: middle;\n",
       "    }\n",
       "\n",
       "    .dataframe tbody tr th {\n",
       "        vertical-align: top;\n",
       "    }\n",
       "\n",
       "    .dataframe thead th {\n",
       "        text-align: right;\n",
       "    }\n",
       "</style>\n",
       "<table border=\"1\" class=\"dataframe\">\n",
       "  <thead>\n",
       "    <tr style=\"text-align: right;\">\n",
       "      <th></th>\n",
       "      <th>V1</th>\n",
       "      <th>V2</th>\n",
       "      <th>V3</th>\n",
       "      <th>V4</th>\n",
       "      <th>V5</th>\n",
       "      <th>V6</th>\n",
       "      <th>V7</th>\n",
       "      <th>V8</th>\n",
       "      <th>V9</th>\n",
       "      <th>V10</th>\n",
       "      <th>...</th>\n",
       "      <th>V20</th>\n",
       "      <th>V21</th>\n",
       "      <th>V22</th>\n",
       "      <th>V23</th>\n",
       "      <th>V24</th>\n",
       "      <th>V25</th>\n",
       "      <th>V26</th>\n",
       "      <th>V27</th>\n",
       "      <th>V28</th>\n",
       "      <th>Amount</th>\n",
       "    </tr>\n",
       "  </thead>\n",
       "  <tbody>\n",
       "    <tr>\n",
       "      <th>0</th>\n",
       "      <td>-1.684059</td>\n",
       "      <td>1.500809</td>\n",
       "      <td>0.759888</td>\n",
       "      <td>0.550576</td>\n",
       "      <td>0.232439</td>\n",
       "      <td>-0.043998</td>\n",
       "      <td>0.626440</td>\n",
       "      <td>-0.004514</td>\n",
       "      <td>-0.004855</td>\n",
       "      <td>1.376058</td>\n",
       "      <td>...</td>\n",
       "      <td>0.252636</td>\n",
       "      <td>0.099876</td>\n",
       "      <td>0.702279</td>\n",
       "      <td>-0.194992</td>\n",
       "      <td>0.034693</td>\n",
       "      <td>-0.271951</td>\n",
       "      <td>-0.402507</td>\n",
       "      <td>-0.359649</td>\n",
       "      <td>-0.093177</td>\n",
       "      <td>-0.259165</td>\n",
       "    </tr>\n",
       "    <tr>\n",
       "      <th>1</th>\n",
       "      <td>-0.712760</td>\n",
       "      <td>0.946364</td>\n",
       "      <td>1.613294</td>\n",
       "      <td>-0.057937</td>\n",
       "      <td>0.307252</td>\n",
       "      <td>0.033698</td>\n",
       "      <td>0.842808</td>\n",
       "      <td>-0.082649</td>\n",
       "      <td>-0.286508</td>\n",
       "      <td>-0.691974</td>\n",
       "      <td>...</td>\n",
       "      <td>0.043267</td>\n",
       "      <td>-0.209533</td>\n",
       "      <td>-0.489587</td>\n",
       "      <td>-0.374907</td>\n",
       "      <td>-0.405319</td>\n",
       "      <td>0.492170</td>\n",
       "      <td>0.339188</td>\n",
       "      <td>-0.107684</td>\n",
       "      <td>0.052013</td>\n",
       "      <td>-0.214710</td>\n",
       "    </tr>\n",
       "    <tr>\n",
       "      <th>2</th>\n",
       "      <td>1.194627</td>\n",
       "      <td>0.202019</td>\n",
       "      <td>0.148443</td>\n",
       "      <td>0.456065</td>\n",
       "      <td>-0.024289</td>\n",
       "      <td>-0.105957</td>\n",
       "      <td>-0.146632</td>\n",
       "      <td>0.140367</td>\n",
       "      <td>-0.109165</td>\n",
       "      <td>-0.137806</td>\n",
       "      <td>...</td>\n",
       "      <td>-0.134548</td>\n",
       "      <td>-0.237956</td>\n",
       "      <td>-0.716717</td>\n",
       "      <td>0.114452</td>\n",
       "      <td>-0.366347</td>\n",
       "      <td>0.135195</td>\n",
       "      <td>0.129319</td>\n",
       "      <td>-0.014949</td>\n",
       "      <td>0.012339</td>\n",
       "      <td>-0.328499</td>\n",
       "    </tr>\n",
       "    <tr>\n",
       "      <th>3</th>\n",
       "      <td>1.191219</td>\n",
       "      <td>-0.686249</td>\n",
       "      <td>0.413138</td>\n",
       "      <td>0.261424</td>\n",
       "      <td>-0.634744</td>\n",
       "      <td>0.624022</td>\n",
       "      <td>-0.717510</td>\n",
       "      <td>0.123673</td>\n",
       "      <td>-0.737618</td>\n",
       "      <td>0.811951</td>\n",
       "      <td>...</td>\n",
       "      <td>-0.297845</td>\n",
       "      <td>-0.214390</td>\n",
       "      <td>-0.138765</td>\n",
       "      <td>-0.283669</td>\n",
       "      <td>-0.835391</td>\n",
       "      <td>0.646958</td>\n",
       "      <td>-0.177545</td>\n",
       "      <td>0.063255</td>\n",
       "      <td>0.026668</td>\n",
       "      <td>-0.019893</td>\n",
       "    </tr>\n",
       "    <tr>\n",
       "      <th>4</th>\n",
       "      <td>0.807040</td>\n",
       "      <td>-1.845157</td>\n",
       "      <td>1.160044</td>\n",
       "      <td>-0.078988</td>\n",
       "      <td>-1.973917</td>\n",
       "      <td>0.492741</td>\n",
       "      <td>-1.211037</td>\n",
       "      <td>0.286344</td>\n",
       "      <td>0.606206</td>\n",
       "      <td>0.173870</td>\n",
       "      <td>...</td>\n",
       "      <td>0.443070</td>\n",
       "      <td>0.253705</td>\n",
       "      <td>0.462592</td>\n",
       "      <td>-0.229476</td>\n",
       "      <td>0.129784</td>\n",
       "      <td>0.251871</td>\n",
       "      <td>-0.111874</td>\n",
       "      <td>0.038918</td>\n",
       "      <td>0.063682</td>\n",
       "      <td>0.602102</td>\n",
       "    </tr>\n",
       "  </tbody>\n",
       "</table>\n",
       "<p>5 rows × 29 columns</p>\n",
       "</div>"
      ],
      "text/plain": [
       "         V1        V2        V3        V4        V5        V6        V7  \\\n",
       "0 -1.684059  1.500809  0.759888  0.550576  0.232439 -0.043998  0.626440   \n",
       "1 -0.712760  0.946364  1.613294 -0.057937  0.307252  0.033698  0.842808   \n",
       "2  1.194627  0.202019  0.148443  0.456065 -0.024289 -0.105957 -0.146632   \n",
       "3  1.191219 -0.686249  0.413138  0.261424 -0.634744  0.624022 -0.717510   \n",
       "4  0.807040 -1.845157  1.160044 -0.078988 -1.973917  0.492741 -1.211037   \n",
       "\n",
       "         V8        V9       V10  ...       V20       V21       V22       V23  \\\n",
       "0 -0.004514 -0.004855  1.376058  ...  0.252636  0.099876  0.702279 -0.194992   \n",
       "1 -0.082649 -0.286508 -0.691974  ...  0.043267 -0.209533 -0.489587 -0.374907   \n",
       "2  0.140367 -0.109165 -0.137806  ... -0.134548 -0.237956 -0.716717  0.114452   \n",
       "3  0.123673 -0.737618  0.811951  ... -0.297845 -0.214390 -0.138765 -0.283669   \n",
       "4  0.286344  0.606206  0.173870  ...  0.443070  0.253705  0.462592 -0.229476   \n",
       "\n",
       "        V24       V25       V26       V27       V28    Amount  \n",
       "0  0.034693 -0.271951 -0.402507 -0.359649 -0.093177 -0.259165  \n",
       "1 -0.405319  0.492170  0.339188 -0.107684  0.052013 -0.214710  \n",
       "2 -0.366347  0.135195  0.129319 -0.014949  0.012339 -0.328499  \n",
       "3 -0.835391  0.646958 -0.177545  0.063255  0.026668 -0.019893  \n",
       "4  0.129784  0.251871 -0.111874  0.038918  0.063682  0.602102  \n",
       "\n",
       "[5 rows x 29 columns]"
      ]
     },
     "execution_count": 157,
     "metadata": {},
     "output_type": "execute_result"
    }
   ],
   "source": [
    "# X_test = pd.DataFrame(X_test, columns=columns)\n",
    "X_test['Amount'] = sscaler.fit_transform(X_test['Amount'].values.reshape(-1,1))\n",
    "X_test.head()"
   ]
  },
  {
   "cell_type": "code",
   "execution_count": 102,
   "metadata": {},
   "outputs": [],
   "source": [
    "X_train = X_train.values"
   ]
  },
  {
   "cell_type": "code",
   "execution_count": 108,
   "metadata": {},
   "outputs": [
    {
     "name": "stdout",
     "output_type": "stream",
     "text": [
      "Lengths of X_train and X_test are: 198608 & 85118\n"
     ]
    }
   ],
   "source": [
    "print(f'Lengths of X_train and X_test are: {X_train.shape[0]} & {X_test.shape[0]}')"
   ]
  },
  {
   "cell_type": "code",
   "execution_count": 118,
   "metadata": {},
   "outputs": [
    {
     "name": "stdout",
     "output_type": "stream",
     "text": [
      "0.1667 % of the main data are frauds\n",
      "0.1667 % of the train data are frauds\n",
      "0.1668 % of the test data are frauds\n"
     ]
    }
   ],
   "source": [
    "print(round((len(df[df['Class']==1])/len(df))*100, 4), '% of the main data are frauds')\n",
    "print(round((len(y_train[y_train==1])/len(y_train))*100, 4), \"% of the train data are frauds\")\n",
    "print(round((len(y_test[y_test==1])/len(y_test))*100, 4), \"% of the test data are frauds\")"
   ]
  },
  {
   "cell_type": "markdown",
   "metadata": {},
   "source": [
    "The _stratify_ option in the train_test_split class of sklearn helps us maintain the same class imbalance ratio as in the original dataset into the train and test datasets. "
   ]
  },
  {
   "cell_type": "markdown",
   "metadata": {},
   "source": [
    "Let us remember the weights of the classes once again, before getting to the model designing."
   ]
  },
  {
   "cell_type": "code",
   "execution_count": 119,
   "metadata": {},
   "outputs": [
    {
     "name": "stdout",
     "output_type": "stream",
     "text": [
      "598 legit transactions for 1 fraud.\n"
     ]
    }
   ],
   "source": [
    "print(transaction_weight, 'legit transactions for 1 fraud.')"
   ]
  },
  {
   "cell_type": "markdown",
   "metadata": {},
   "source": [
    "Highly imbalanced classification problems are not uncommon in the domain of financial fraud, as there would only be a handful of fraudulent transactions compared to legitimate transactions.<br>\n",
    "* For example, in this dataset, 99.83% of the records are legitimate, whereas only 0.17% of the records are fraudulent trasnsactions.\n",
    "* The sensible approach to the problem at hand is to not only look at correct classification (in terms of accuracy, which will be useless as a metric for evaluation anyways), but also the financial cost involved. <br><br>\n",
    "For example, the \"cost\" of misclassifying a non-fraud as a fraud is not going to be as high as the cost of misclassifying a fraud as a non-fraud. <br>\n",
    "Moreover, we also need to think about individual transaction examples, and the costs attached to it. So instead of having two different costs for two different Classes (fraud and non-fraud), there would be a cost matrix for each row of data. Ideally, this <i> <a href='https://albahnsen.github.io/CostSensitiveClassification/index.html'> example dependent cost-sensitive classification </a></i> would be the way to go. <br><br>\n",
    "Several approaches for imbalanced data classification is to use an <i>undersampler or an oversampler</i>, with techniques such as SMOTE (Synthetic Minority Oversampling Technique), RandomOverSampler, RandomUnderSampler, TomekLinks, etc. used predominantly. I however, do not want to use such resampling techniques for this problem - but want to experiment with the <i>class weights</i> to come up with a rational and meaningful set of class weights (frauds and non-frauds) to classify the data more accurately. <br><br>\n",
    "With such severe imbalance, undersampling is prone to remove a lot of existing information in the Non-Fraud part of the data. Oversampling is prone to create non-existent patterns in the Fraudulent part of the data - especially distance based oversampling techniques where a random point in the middle of the euclidean space between two existing fraudulent points are calculated as a new point. <br><br> With only 473 total frauds, I do not want to implement either of these techniques. <br><br>\n",
    "To calculate the class weights, one way to approach this is to take simply, the obervation weights of the classes in the data. The following line of code tells us that for each fraud transaction, there are approximately 598 legitimate transactions in the dataset. <br><br>\n",
    "So when ensemble classification techniques tries to minimize the loss function, the attached weight of 598 for Class 1 will reinforce the misclassification cost of misclassifying Fraudulent transactions. <br><br> This is a way of deliberately inducing bias in the model's loss calculation, to account for the imbalance avoiding resampling techniques and the disadvantages that comes with it - both statistically and financially."
   ]
  },
  {
   "cell_type": "markdown",
   "metadata": {},
   "source": [
    "<br><br><br>\n",
    "In the first step toward approaching this problem, I am going to use the Random Forest classification algorithm, with some hyperparameter tuning using the GridSearch CV. Optimizing for time and for the accuracy/evaluation metrics, I will then fine tune the main parameter of interest - the \"class_weight\" where a dictionary of key-value pairs for the class and the respective weight I want the Random Forest algorithm to calculate the loss with, is provided. <br><br>\n",
    "Below is a list of all the parameters of the Random Forest for reference."
   ]
  },
  {
   "cell_type": "code",
   "execution_count": 122,
   "metadata": {},
   "outputs": [
    {
     "data": {
      "text/plain": [
       "{'bootstrap': True,\n",
       " 'ccp_alpha': 0.0,\n",
       " 'class_weight': None,\n",
       " 'criterion': 'gini',\n",
       " 'max_depth': None,\n",
       " 'max_features': 'auto',\n",
       " 'max_leaf_nodes': None,\n",
       " 'max_samples': None,\n",
       " 'min_impurity_decrease': 0.0,\n",
       " 'min_samples_leaf': 1,\n",
       " 'min_samples_split': 2,\n",
       " 'min_weight_fraction_leaf': 0.0,\n",
       " 'n_estimators': 100,\n",
       " 'n_jobs': None,\n",
       " 'oob_score': False,\n",
       " 'random_state': None,\n",
       " 'verbose': 0,\n",
       " 'warm_start': False}"
      ]
     },
     "execution_count": 122,
     "metadata": {},
     "output_type": "execute_result"
    }
   ],
   "source": [
    "RandomForestClassifier().get_params()"
   ]
  },
  {
   "cell_type": "code",
   "execution_count": 124,
   "metadata": {},
   "outputs": [
    {
     "name": "stdout",
     "output_type": "stream",
     "text": [
      "Fitting 3 folds for each of 12 candidates, totalling 36 fits\n",
      "[CV 1/3] END class_weight={0: 1, 1: 598}, criterion=entropy, n_estimators=50;, score=0.974 total time=  20.7s\n",
      "[CV 2/3] END class_weight={0: 1, 1: 598}, criterion=entropy, n_estimators=50;, score=0.981 total time=  20.3s\n",
      "[CV 3/3] END class_weight={0: 1, 1: 598}, criterion=entropy, n_estimators=50;, score=0.982 total time=  26.7s\n",
      "[CV 1/3] END class_weight={0: 1, 1: 598}, criterion=entropy, n_estimators=100;, score=0.975 total time=  46.4s\n",
      "[CV 2/3] END class_weight={0: 1, 1: 598}, criterion=entropy, n_estimators=100;, score=0.981 total time=  44.8s\n",
      "[CV 3/3] END class_weight={0: 1, 1: 598}, criterion=entropy, n_estimators=100;, score=0.988 total time=  50.7s\n",
      "[CV 1/3] END class_weight={0: 1, 1: 598}, criterion=gini, n_estimators=50;, score=0.973 total time=  16.8s\n",
      "[CV 2/3] END class_weight={0: 1, 1: 598}, criterion=gini, n_estimators=50;, score=0.966 total time=  17.2s\n",
      "[CV 3/3] END class_weight={0: 1, 1: 598}, criterion=gini, n_estimators=50;, score=0.989 total time=  15.7s\n",
      "[CV 1/3] END class_weight={0: 1, 1: 598}, criterion=gini, n_estimators=100;, score=0.975 total time=  30.8s\n",
      "[CV 2/3] END class_weight={0: 1, 1: 598}, criterion=gini, n_estimators=100;, score=0.968 total time=  30.9s\n",
      "[CV 3/3] END class_weight={0: 1, 1: 598}, criterion=gini, n_estimators=100;, score=0.987 total time=  30.9s\n",
      "[CV 1/3] END class_weight={0: 1, 1: 50}, criterion=entropy, n_estimators=50;, score=0.972 total time=  22.1s\n",
      "[CV 2/3] END class_weight={0: 1, 1: 50}, criterion=entropy, n_estimators=50;, score=0.969 total time=  23.1s\n",
      "[CV 3/3] END class_weight={0: 1, 1: 50}, criterion=entropy, n_estimators=50;, score=0.984 total time=  23.6s\n",
      "[CV 1/3] END class_weight={0: 1, 1: 50}, criterion=entropy, n_estimators=100;, score=0.974 total time=  43.1s\n",
      "[CV 2/3] END class_weight={0: 1, 1: 50}, criterion=entropy, n_estimators=100;, score=0.969 total time=  55.9s\n",
      "[CV 3/3] END class_weight={0: 1, 1: 50}, criterion=entropy, n_estimators=100;, score=0.983 total time=  49.9s\n",
      "[CV 1/3] END class_weight={0: 1, 1: 50}, criterion=gini, n_estimators=50;, score=0.932 total time=  16.7s\n",
      "[CV 2/3] END class_weight={0: 1, 1: 50}, criterion=gini, n_estimators=50;, score=0.946 total time=  16.4s\n",
      "[CV 3/3] END class_weight={0: 1, 1: 50}, criterion=gini, n_estimators=50;, score=0.924 total time=  16.6s\n",
      "[CV 1/3] END class_weight={0: 1, 1: 50}, criterion=gini, n_estimators=100;, score=0.960 total time=  32.2s\n",
      "[CV 2/3] END class_weight={0: 1, 1: 50}, criterion=gini, n_estimators=100;, score=0.953 total time=  34.6s\n",
      "[CV 3/3] END class_weight={0: 1, 1: 50}, criterion=gini, n_estimators=100;, score=0.953 total time=  36.9s\n",
      "[CV 1/3] END class_weight=None, criterion=entropy, n_estimators=50;, score=0.936 total time=  25.5s\n",
      "[CV 2/3] END class_weight=None, criterion=entropy, n_estimators=50;, score=0.937 total time=  23.4s\n",
      "[CV 3/3] END class_weight=None, criterion=entropy, n_estimators=50;, score=0.904 total time=  25.9s\n",
      "[CV 1/3] END class_weight=None, criterion=entropy, n_estimators=100;, score=0.936 total time=  45.3s\n",
      "[CV 2/3] END class_weight=None, criterion=entropy, n_estimators=100;, score=0.937 total time=  50.7s\n",
      "[CV 3/3] END class_weight=None, criterion=entropy, n_estimators=100;, score=0.904 total time=  50.0s\n",
      "[CV 1/3] END class_weight=None, criterion=gini, n_estimators=50;, score=0.500 total time=  17.9s\n",
      "[CV 2/3] END class_weight=None, criterion=gini, n_estimators=50;, score=0.500 total time=  16.7s\n",
      "[CV 3/3] END class_weight=None, criterion=gini, n_estimators=50;, score=0.500 total time=  16.2s\n",
      "[CV 1/3] END class_weight=None, criterion=gini, n_estimators=100;, score=0.500 total time=  31.7s\n",
      "[CV 2/3] END class_weight=None, criterion=gini, n_estimators=100;, score=0.500 total time=  32.4s\n",
      "[CV 3/3] END class_weight=None, criterion=gini, n_estimators=100;, score=0.500 total time=  32.9s\n"
     ]
    },
    {
     "data": {
      "text/plain": [
       "GridSearchCV(cv=3,\n",
       "             estimator=RandomForestClassifier(ccp_alpha=0.01, max_depth=5,\n",
       "                                              random_state=42),\n",
       "             param_grid=[{'class_weight': [{0: 1, 1: 598}, {0: 1, 1: 50}, None],\n",
       "                          'criterion': ['entropy', 'gini'],\n",
       "                          'n_estimators': [50, 100]}],\n",
       "             scoring='roc_auc', verbose=3)"
      ]
     },
     "execution_count": 124,
     "metadata": {},
     "output_type": "execute_result"
    }
   ],
   "source": [
    "# I am going to now fine tune the RandomForest Classification model based on several hyperparameter options, one of which is the class_weight\n",
    "param_grid = [\n",
    "    {'criterion':['entropy', 'gini'],\n",
    "    'class_weight':[{0:1, 1:transaction_weight}, {0:1, 1:50}, None],\n",
    "    'n_estimators':[50, 100]}\n",
    "]\n",
    "random_forest = RandomForestClassifier(random_state=42, max_depth=5, ccp_alpha=0.01)\n",
    "\n",
    "gridsearch = GridSearchCV(random_forest, param_grid=param_grid, cv=3, scoring='roc_auc', verbose=3)\n",
    "gridsearch.fit(X_train, y_train)"
   ]
  },
  {
   "cell_type": "code",
   "execution_count": 125,
   "metadata": {},
   "outputs": [
    {
     "data": {
      "text/plain": [
       "{'class_weight': {0: 1, 1: 598}, 'criterion': 'entropy', 'n_estimators': 100}"
      ]
     },
     "execution_count": 125,
     "metadata": {},
     "output_type": "execute_result"
    }
   ],
   "source": [
    "gridsearch.best_params_"
   ]
  },
  {
   "cell_type": "markdown",
   "metadata": {},
   "source": [
    "As the theoretical understanding of the problem would expect, the best class weight parameter is indeed the one containing the transaction support for the two classes. {0: 1, 1: 598} is the best class_weight parameter, compared to a randomly higher weight for Class = 1 (frauds), and the default \"None\" option. "
   ]
  },
  {
   "cell_type": "code",
   "execution_count": 131,
   "metadata": {},
   "outputs": [
    {
     "name": "stdout",
     "output_type": "stream",
     "text": [
      "[[197341    936]\n",
      " [    36    295]]\n"
     ]
    }
   ],
   "source": [
    "training_prediction = gridsearch.predict(X_train)\n",
    "training_cm = confusion_matrix(y_train, training_prediction)\n",
    "print(training_cm)"
   ]
  },
  {
   "cell_type": "markdown",
   "metadata": {},
   "source": [
    "This is the confusion matrix results for the Training Data - not the test dataset which we use to evaluate our model. <br><br>\n",
    "The interpretation of the confusion matrix is such as: <br><br>\n",
    "197341 legitimate transactions were predicted as legitimate transactions. <br>\n",
    "295 fraudulent transactions were predicted as fraudulent transactions. <br>\n",
    "36 fraudulent transactions were predicted as legitimate transactions.<br>\n",
    "936 legitimate transactions were predicted as fraudulent transactions. <br>"
   ]
  },
  {
   "cell_type": "markdown",
   "metadata": {},
   "source": [
    "<br>\n",
    "In order to understand the model results further, let us look at the \"classification report\" after we make predictions on the testing data using the model."
   ]
  },
  {
   "cell_type": "code",
   "execution_count": 210,
   "metadata": {},
   "outputs": [
    {
     "name": "stderr",
     "output_type": "stream",
     "text": [
      "C:\\Users\\gopalnit\\AppData\\Local\\Programs\\Python\\Python310\\lib\\site-packages\\sklearn\\base.py:443: UserWarning: X has feature names, but RandomForestClassifier was fitted without feature names\n",
      "  warnings.warn(\n",
      "C:\\Users\\gopalnit\\AppData\\Local\\Programs\\Python\\Python310\\lib\\site-packages\\sklearn\\base.py:443: UserWarning: X has feature names, but RandomForestClassifier was fitted without feature names\n",
      "  warnings.warn(\n"
     ]
    },
    {
     "name": "stdout",
     "output_type": "stream",
     "text": [
      "[[84579   397]\n",
      " [   24   118]]\n"
     ]
    }
   ],
   "source": [
    "predicted_y = gridsearch.predict(X_test)\n",
    "scores_y = gridsearch.predict_proba(X_test)\n",
    "cm = confusion_matrix(y_test, predicted_y)\n",
    "print(cm)"
   ]
  },
  {
   "cell_type": "code",
   "execution_count": 135,
   "metadata": {},
   "outputs": [
    {
     "name": "stdout",
     "output_type": "stream",
     "text": [
      "              precision    recall  f1-score   support\n",
      "\n",
      "           0       1.00      1.00      1.00     84976\n",
      "           1       0.23      0.83      0.35       142\n",
      "\n",
      "    accuracy                           0.99     85118\n",
      "   macro avg       0.61      0.91      0.68     85118\n",
      "weighted avg       1.00      0.99      1.00     85118\n",
      "\n"
     ]
    }
   ],
   "source": [
    "print(classification_report(y_test, predicted_y))"
   ]
  },
  {
   "cell_type": "markdown",
   "metadata": {},
   "source": [
    "The recall score of 83% means that, \"of all the frauds in the test dataset, how many were correctly identified?\" <br><br>\n",
    "The recall is essentially True Positives/(True Positives + False Negatives)<br>\n",
    "False negatives are the actual frauds that were missed and identified (predicted) as legitimate. This has a high financial cost. <br>\n",
    "True positives are actual fraudulent transactions that were correctly identified as frauds. <br><br>\n",
    "False positives on the other hand, are actual legitimate transactions that were mistaken as frauds. This does not hold a high financial cost comapred to false negatives.<br><br>\n",
    "You can see how by increasing the class weight of the Fraud class by too much, is prone to give us more false positives, because the RandomForest mis-idenitifies many more normal transactions as fraudulent. The upside is that we may get more of the actual frauds correctly predicted. <br><br>\n",
    "By reducing the weight of the fraud class lower than the optimal weight, the RandomForest is more prone to predict actual frauds as non-frauds, but identify many more legitimate transactions correctly. So, the metric-based goal of this project is to find that reasonable correct class weight to get to an equilibrium trade-off between the False positives and False negatives /or/ between precision and recall. <br><br>\n",
    "Recall, naturally seems more attractive as a metric to optimize, since recall calculates \"how many of actual frauds were correctly identified as frauds?\" - or, the inverse of how many actual frauds we missed? <br>"
   ]
  },
  {
   "cell_type": "markdown",
   "metadata": {},
   "source": [
    "| Actual/Predicted | Legit | Fraud |\n",
    "|------------------|-------|-------|\n",
    "| Legit            | 84571 |  405  |\n",
    "| Fraud            |   24  |  118  |"
   ]
  },
  {
   "cell_type": "markdown",
   "metadata": {},
   "source": [
    "In a financial sense, the goal is to minimize the cost of misclassifying the data - except in this case, one cost is greater than the other. Cost of misclassifying a fraud as legit has a much greater cost than vice versa. <br><br>\n",
    "Let us look at a theoretical cost model as below: <br>\n",
    "* Actually legit - predicted as legit = no cost involved.\n",
    "* Actually legit - predicted as fraud = administrative cost of raising an alert, verification, etc.\n",
    "* Actually fraud - predicted as fraud = administrative cost of raising an alert, verification, etc.\n",
    "* Actually fraud - predicted as legit = cost of the transaction amount, or possibly more. <br><br>\n",
    "When scaled, the admin cost is minimized, and that is why theoretically I believe that the cost of a false negative on average will be much greater than a false positive. <br><br>"
   ]
  },
  {
   "cell_type": "markdown",
   "metadata": {},
   "source": [
    "So, based on this cost model, this could be a sample equation: <br>\n",
    "_cost_ = 0 x _TN_ + A x _TP_ + A x _FP_ + Amt x _FN_ <br><br>\n",
    "Where A is the admin cost, and Amt is the transaction amount average for when the transaction is a fraud."
   ]
  },
  {
   "cell_type": "code",
   "execution_count": 161,
   "metadata": {},
   "outputs": [
    {
     "name": "stdout",
     "output_type": "stream",
     "text": [
      "The average fraudulent transaction has an amount of 123.87 Euros\n"
     ]
    }
   ],
   "source": [
    "# Let us recall the average amount for when a transaction is fraudulent.\n",
    "fraud_avg_amt = df[df['Class']==1]['Amount'].describe()['mean']\n",
    "print(f'The average fraudulent transaction has an amount of {round(fraud_avg_amt,2)} Euros')"
   ]
  },
  {
   "cell_type": "code",
   "execution_count": 166,
   "metadata": {},
   "outputs": [
    {
     "name": "stdout",
     "output_type": "stream",
     "text": [
      "The approximated financial cost/savings of the initial Random Forest model is: 5587.92 Euros\n"
     ]
    }
   ],
   "source": [
    "cost = cm[0][0]*0 + cm[0,1]*5 + cm[1,0]*fraud_avg_amt + cm[1][1]*5\n",
    "print(f'The approximated financial cost/savings of the initial Random Forest model is: {round(cost,2)} Euros')"
   ]
  },
  {
   "cell_type": "markdown",
   "metadata": {},
   "source": [
    "<br><br>\n",
    "The transaction based weight of {0:1, 1:598} gave us a lot of false positives at the expense of minimal false negatives. Let us try reducing the weight given to class 1, such that the false positives are reduced, but do so in a manner of not losing too much through false negatives. <br><br>\n",
    "Essentially, let us compare the precision and recall and come to the best compromise possible to minimize the cost involved from the equation above."
   ]
  },
  {
   "cell_type": "code",
   "execution_count": 188,
   "metadata": {},
   "outputs": [
    {
     "name": "stdout",
     "output_type": "stream",
     "text": [
      "              precision    recall  f1-score   support\n",
      "\n",
      "           0       1.00      1.00      1.00     84976\n",
      "           1       0.23      0.83      0.35       142\n",
      "\n",
      "    accuracy                           0.99     85118\n",
      "   macro avg       0.61      0.91      0.68     85118\n",
      "weighted avg       1.00      0.99      1.00     85118\n",
      "\n"
     ]
    }
   ],
   "source": [
    "# Classification report for the GridSearched Random Forest Model #1\n",
    "print(classification_report(y_test, predicted_y))"
   ]
  },
  {
   "cell_type": "markdown",
   "metadata": {},
   "source": [
    "The more recall score we want, the lesser the precision score is bound to get. So, the tradeoff should be made in a meaningful way. For example, from a financial company's standpoint, 83% of all the frauds being correctly predicted as frauds may be a good result (actually isn't), but at the cost of only 23% of the predicted data being corrected predicted. <br><br>\n",
    "The way to approach this particular scenario is to battle it out using the financial costs and which cost is minimal, based on different precision and recall values (which are essentially just combinations of TP, FP, TN and FNs.)"
   ]
  },
  {
   "cell_type": "markdown",
   "metadata": {},
   "source": [
    "### _<b>3. The Last Lap</b>_"
   ]
  },
  {
   "cell_type": "markdown",
   "metadata": {},
   "source": [
    "Time to modularize the modelling to make it easier to test with different weights."
   ]
  },
  {
   "cell_type": "code",
   "execution_count": 201,
   "metadata": {},
   "outputs": [],
   "source": [
    "def model(weights):\n",
    "    random_forest = RandomForestClassifier(ccp_alpha=0.01, \n",
    "                                        class_weight=weights,\n",
    "                                        criterion='entropy',\n",
    "                                        max_depth=5,\n",
    "                                        random_state=42)\n",
    "    random_forest.fit(X_train, y_train)\n",
    "    predictions = random_forest.predict(X_test)\n",
    "    print(f'The results of the model with weights {weights} are:')\n",
    "    print('The confusion matrix')\n",
    "    print('-------------------------')\n",
    "    cm = confusion_matrix(y_test, predictions)\n",
    "    print(cm)\n",
    "    print('---------------------------')\n",
    "    print(classification_report(y_test, predictions))\n",
    "    print('------------------------------------------')\n",
    "    print('The Financial Cost of the model')\n",
    "    print('-----------------------')\n",
    "    print(cm[0][0]*0 + cm[0][1]*5 + cm[1][1]*5 + cm[1][0]*fraud_avg_amt, 'Euros')\n",
    "    scores = random_forest.predict_proba(X_test)\n",
    "    print(f'The ROC-AUC score is {roc_auc_score(y_test, scores[:,1])}')"
   ]
  },
  {
   "cell_type": "code",
   "execution_count": 203,
   "metadata": {},
   "outputs": [
    {
     "name": "stdout",
     "output_type": "stream",
     "text": [
      "The results of the model with weights {0: 1, 1: 15} are:\n",
      "The confusion matrix\n",
      "-------------------------\n",
      "[[84960    16]\n",
      " [   36   106]]\n",
      "---------------------------\n",
      "              precision    recall  f1-score   support\n",
      "\n",
      "           0       1.00      1.00      1.00     84976\n",
      "           1       0.87      0.75      0.80       142\n",
      "\n",
      "    accuracy                           1.00     85118\n",
      "   macro avg       0.93      0.87      0.90     85118\n",
      "weighted avg       1.00      1.00      1.00     85118\n",
      "\n",
      "------------------------------------------\n",
      "The Financial Cost of the model\n",
      "-----------------------\n",
      "5069.3869767441865 Euros\n",
      "The ROC-AUC score is 0.94457283382085\n",
      "The results of the model with weights {0: 1, 1: 50} are:\n",
      "The confusion matrix\n",
      "-------------------------\n",
      "[[84954    22]\n",
      " [   31   111]]\n",
      "---------------------------\n",
      "              precision    recall  f1-score   support\n",
      "\n",
      "           0       1.00      1.00      1.00     84976\n",
      "           1       0.83      0.78      0.81       142\n",
      "\n",
      "    accuracy                           1.00     85118\n",
      "   macro avg       0.92      0.89      0.90     85118\n",
      "weighted avg       1.00      1.00      1.00     85118\n",
      "\n",
      "------------------------------------------\n",
      "The Financial Cost of the model\n",
      "-----------------------\n",
      "4505.027674418605 Euros\n",
      "The ROC-AUC score is 0.9647444365401598\n",
      "The results of the model with weights {0: 1, 1: 100} are:\n",
      "The confusion matrix\n",
      "-------------------------\n",
      "[[84941    35]\n",
      " [   30   112]]\n",
      "---------------------------\n",
      "              precision    recall  f1-score   support\n",
      "\n",
      "           0       1.00      1.00      1.00     84976\n",
      "           1       0.76      0.79      0.78       142\n",
      "\n",
      "    accuracy                           1.00     85118\n",
      "   macro avg       0.88      0.89      0.89     85118\n",
      "weighted avg       1.00      1.00      1.00     85118\n",
      "\n",
      "------------------------------------------\n",
      "The Financial Cost of the model\n",
      "-----------------------\n",
      "4451.155813953488 Euros\n",
      "The ROC-AUC score is 0.9653423269801449\n",
      "The results of the model with weights {0: 1, 1: 150} are:\n",
      "The confusion matrix\n",
      "-------------------------\n",
      "[[84934    42]\n",
      " [   28   114]]\n",
      "---------------------------\n",
      "              precision    recall  f1-score   support\n",
      "\n",
      "           0       1.00      1.00      1.00     84976\n",
      "           1       0.73      0.80      0.77       142\n",
      "\n",
      "    accuracy                           1.00     85118\n",
      "   macro avg       0.87      0.90      0.88     85118\n",
      "weighted avg       1.00      1.00      1.00     85118\n",
      "\n",
      "------------------------------------------\n",
      "The Financial Cost of the model\n",
      "-----------------------\n",
      "4248.412093023257 Euros\n",
      "The ROC-AUC score is 0.9684870425717551\n",
      "The results of the model with weights {0: 1, 1: 200} are:\n",
      "The confusion matrix\n",
      "-------------------------\n",
      "[[84927    49]\n",
      " [   28   114]]\n",
      "---------------------------\n",
      "              precision    recall  f1-score   support\n",
      "\n",
      "           0       1.00      1.00      1.00     84976\n",
      "           1       0.70      0.80      0.75       142\n",
      "\n",
      "    accuracy                           1.00     85118\n",
      "   macro avg       0.85      0.90      0.87     85118\n",
      "weighted avg       1.00      1.00      1.00     85118\n",
      "\n",
      "------------------------------------------\n",
      "The Financial Cost of the model\n",
      "-----------------------\n",
      "4283.412093023257 Euros\n",
      "The ROC-AUC score is 0.9697317602186267\n",
      "The results of the model with weights {0: 1, 1: 275} are:\n",
      "The confusion matrix\n",
      "-------------------------\n",
      "[[84883    93]\n",
      " [   28   114]]\n",
      "---------------------------\n",
      "              precision    recall  f1-score   support\n",
      "\n",
      "           0       1.00      1.00      1.00     84976\n",
      "           1       0.55      0.80      0.65       142\n",
      "\n",
      "    accuracy                           1.00     85118\n",
      "   macro avg       0.78      0.90      0.83     85118\n",
      "weighted avg       1.00      1.00      1.00     85118\n",
      "\n",
      "------------------------------------------\n",
      "The Financial Cost of the model\n",
      "-----------------------\n",
      "4503.412093023257 Euros\n",
      "The ROC-AUC score is 0.9680578824576151\n",
      "The results of the model with weights {0: 1, 1: 350} are:\n",
      "The confusion matrix\n",
      "-------------------------\n",
      "[[84815   161]\n",
      " [   26   116]]\n",
      "---------------------------\n",
      "              precision    recall  f1-score   support\n",
      "\n",
      "           0       1.00      1.00      1.00     84976\n",
      "           1       0.42      0.82      0.55       142\n",
      "\n",
      "    accuracy                           1.00     85118\n",
      "   macro avg       0.71      0.91      0.78     85118\n",
      "weighted avg       1.00      1.00      1.00     85118\n",
      "\n",
      "------------------------------------------\n",
      "The Financial Cost of the model\n",
      "-----------------------\n",
      "4605.668372093023 Euros\n",
      "The ROC-AUC score is 0.9715269646972401\n",
      "The results of the model with weights {0: 1, 1: 400} are:\n",
      "The confusion matrix\n",
      "-------------------------\n",
      "[[84779   197]\n",
      " [   25   117]]\n",
      "---------------------------\n",
      "              precision    recall  f1-score   support\n",
      "\n",
      "           0       1.00      1.00      1.00     84976\n",
      "           1       0.37      0.82      0.51       142\n",
      "\n",
      "    accuracy                           1.00     85118\n",
      "   macro avg       0.69      0.91      0.76     85118\n",
      "weighted avg       1.00      1.00      1.00     85118\n",
      "\n",
      "------------------------------------------\n",
      "The Financial Cost of the model\n",
      "-----------------------\n",
      "4666.7965116279065 Euros\n",
      "The ROC-AUC score is 0.9712566315327475\n",
      "The results of the model with weights {0: 1, 1: 475} are:\n",
      "The confusion matrix\n",
      "-------------------------\n",
      "[[84704   272]\n",
      " [   24   118]]\n",
      "---------------------------\n",
      "              precision    recall  f1-score   support\n",
      "\n",
      "           0       1.00      1.00      1.00     84976\n",
      "           1       0.30      0.83      0.44       142\n",
      "\n",
      "    accuracy                           1.00     85118\n",
      "   macro avg       0.65      0.91      0.72     85118\n",
      "weighted avg       1.00      1.00      1.00     85118\n",
      "\n",
      "------------------------------------------\n",
      "The Financial Cost of the model\n",
      "-----------------------\n",
      "4922.924651162791 Euros\n",
      "The ROC-AUC score is 0.9728178428507404\n",
      "The results of the model with weights {0: 1, 1: 550} are:\n",
      "The confusion matrix\n",
      "-------------------------\n",
      "[[84633   343]\n",
      " [   24   118]]\n",
      "---------------------------\n",
      "              precision    recall  f1-score   support\n",
      "\n",
      "           0       1.00      1.00      1.00     84976\n",
      "           1       0.26      0.83      0.39       142\n",
      "\n",
      "    accuracy                           1.00     85118\n",
      "   macro avg       0.63      0.91      0.69     85118\n",
      "weighted avg       1.00      1.00      1.00     85118\n",
      "\n",
      "------------------------------------------\n",
      "The Financial Cost of the model\n",
      "-----------------------\n",
      "5277.924651162791 Euros\n",
      "The ROC-AUC score is 0.9732064364155181\n"
     ]
    }
   ],
   "source": [
    "weights_list = [{0:1, 1:15}, {0:1, 1:50}, {0:1, 1:100}, {0:1, 1:150}, {0:1, 1:200}, {0:1, 1:275}, {0:1, 1:350}, {0:1, 1:400}, {0:1, 1:475}, {0:1, 1:550}]\n",
    "for weights in weights_list:\n",
    "    model(weights)"
   ]
  },
  {
   "cell_type": "code",
   "execution_count": 217,
   "metadata": {},
   "outputs": [],
   "source": [
    "weights_for_fraud = [weight[1] for weight in weights_list]\n",
    "weights_for_fraud.append(598)\n",
    "roc_auc = [0.94457283382085, 0.9647444365401598, 0.9653423269801449, 0.9684870425717551, \n",
    "            0.9697317602186267, 0.9680578824576151, 0.9715269646972401,\n",
    "            0.9712566315327475, 0.9728178428507404, 0.9732064364155181, 0.9729580647128866]\n",
    "model_costs = [5069.3869767441865, 4505.027674418605, 4451.155813953488,\n",
    "                4248.412093023257, 4283.412093023257, 4503.412093023257, 4605.668372093023,\n",
    "                4666.7965116279065, 4922.924651162791, 5277.924651162791, 5587.92]"
   ]
  },
  {
   "cell_type": "code",
   "execution_count": 215,
   "metadata": {},
   "outputs": [
    {
     "data": {
      "image/png": "[encoded data removed]",
      "text/plain": [
       "<Figure size 864x576 with 1 Axes>"
      ]
     },
     "metadata": {
      "needs_background": "light"
     },
     "output_type": "display_data"
    }
   ],
   "source": [
    "plt.figure(figsize=(12,8))\n",
    "sns.lineplot(x=weights_for_fraud, y=roc_auc)\n",
    "plt.title('The ROC-AUC Score for different weights for Fraud Class', fontdict=dict(fontsize=15))\n",
    "plt.xlabel('Weights')\n",
    "plt.ylabel('AUC Score')\n",
    "plt.show()"
   ]
  },
  {
   "cell_type": "code",
   "execution_count": 223,
   "metadata": {},
   "outputs": [
    {
     "data": {
      "image/png": "[encoded data removed]",
      "text/plain": [
       "<Figure size 864x576 with 1 Axes>"
      ]
     },
     "metadata": {
      "needs_background": "light"
     },
     "output_type": "display_data"
    }
   ],
   "source": [
    "plt.figure(figsize=(12,8))\n",
    "sns.lineplot(x=weights_for_fraud, y=model_costs, color='red')\n",
    "plt.title('Financial Cost based on different weights for Fraud Class', fontdict=dict(fontsize=15))\n",
    "plt.xlabel('Weights')\n",
    "plt.ylabel('Calculated Cost')\n",
    "plt.show()"
   ]
  },
  {
   "cell_type": "markdown",
   "metadata": {},
   "source": [
    "We see that the lowest cost is attained for the weights combination of {0:1, 1:150}. The approach to selecting the best model will depend on the business goals of the project.<br><br>\n",
    "Even if the AUC score gets higher but plateauingly so, the financial savings based on the equation made from the confusion matrix gives us an increasing cost as the weights given to the Fraud Class increases. This is because: <br><br>\n",
    "* Higher weight emphasizes the importance of misclassifying Class 1 (Fraud), thereby greatly increasing the False Positives in the prediction. The increase in False Positives are great because _most of the data in the training and testing is Non-Fraud (Class 0)._ Thereby, the algorithm gets \"over-cautious\" in a way when predicting frauds.\n",
    "* Increasing weights needs to be rationale driven - the weight of 598 is a simple way to create a baseline model by understanding the sample support in the data. Ultimately, the financial cost comes down to the compromise between false negatives and the false positives. But either way, predicting as much actual frauds as frauds will always be the ultimate goal of the model. \n",
    "* If we did not have any cost for a False Positive at all, then the model can go wild, and create as much False Positives as it can, to get as less False Negatives as possible. But that is not a scalable way to model, nor is it practical.<br><br>\n",
    "For a heavily imbalanced dataset such as fraud detection, SMOTE-type oversampling is not reasonable since it is not scalable, and is prone to creating non-existent patterns due to the distance based approach it takes to create new data. <br> The loss of information from undersampling is also a cause for concern, and even witha shuffled approach, where different parts of the data is taken to be trained on after undersampling, it will not create an accurate model, enough to generalize."
   ]
  },
  {
   "cell_type": "markdown",
   "metadata": {},
   "source": [
    "The confusion matrix for the Best-Cost model is: <br>\n",
    "| Actual/Predicted | Legit | Fraud |\n",
    "|------------------|-------|-------|\n",
    "|       Legit      | 84934 |   42  |\n",
    "|       Fraud      |   28  |  114  |"
   ]
  },
  {
   "cell_type": "markdown",
   "metadata": {},
   "source": [
    "There are more legitimate transactions predicted accurately than the baseline, but 4 fraudulent transactions predicted less. But, and a big BUT, there are 362 lesser false positives. And that is where most of the reduction in the Cost comes from. <br><br>\n",
    "_<b>For a 3% sacrifice in recall, we have 50% increase in Precision, thereby, generating overall savings from the baseline model. </b>_"
   ]
  },
  {
   "cell_type": "markdown",
   "metadata": {},
   "source": [
    "### _<b>4. The End</b>_"
   ]
  },
  {
   "cell_type": "markdown",
   "metadata": {},
   "source": [
    "CAUTION:<br>\n",
    "This is in no way an acceptable model, but a strong showcase on domain-specific design of ML models. <br>\n",
    "Some takeaways for future iterations:<br>\n",
    "* Only one algorithm is tried, where XGBoost and Neural Networks can work better at predicting frauds in such a heavily imbalanced dataset.\n",
    "* Not blaming data privacy issues, some more feature extraction can be looked into.\n",
    "* Coming up with reasonably accurate weighting for different classes can be useful for the future.\n",
    "* KFold Cross validated Train-Test Split can be applied. Despite the 70% data taken for training would contain the nuances and distributional idiosyncrasies of the different variables in the X-matrix, there is always room to improve the model selection process, which will help the algorithm look at an accurate representation of the entire dataset - to not overfit on training data, and generalize well on the testing data.<br>"
   ]
  },
  {
   "cell_type": "markdown",
   "metadata": {},
   "source": [
    "❤️ More attention and resources given to the project and the processes can yield a better and more sustainable model for use. I hope this project was of help to understand the domain of fraud detection a little bit more, as I myself learn more each and every day! 😊 Thanks for reading ❤️ Long live the community. ❤️"
   ]
  }
 ],
 "metadata": {
  "interpreter": {
   "hash": "f5c8ec9bbe464ee651c735fe3ade622ac875fe349b64fc366d06a523f00a0141"
  },
  "kernelspec": {
   "display_name": "Python 3.10.1 64-bit",
   "language": "python",
   "name": "python3"
  },
  "language_info": {
   "codemirror_mode": {
    "name": "ipython",
    "version": 3
   },
   "file_extension": ".py",
   "mimetype": "text/x-python",
   "name": "python",
   "nbconvert_exporter": "python",
   "pygments_lexer": "ipython3",
   "version": "3.10.4"
  },
  "orig_nbformat": 4
 },
 "nbformat": 4,
 "nbformat_minor": 2
}
